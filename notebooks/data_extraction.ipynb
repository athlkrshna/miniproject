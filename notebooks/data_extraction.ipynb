{
  "nbformat": 4,
  "nbformat_minor": 0,
  "metadata": {
    "kernelspec": {
      "display_name": "Python 3",
      "language": "python",
      "name": "python3"
    },
    "language_info": {
      "codemirror_mode": {
        "name": "ipython",
        "version": 3
      },
      "file_extension": ".py",
      "mimetype": "text/x-python",
      "name": "python",
      "nbconvert_exporter": "python",
      "pygments_lexer": "ipython3",
      "version": "3.8.5"
    },
    "colab": {
      "name": "data_extraction.ipynb",
      "provenance": []
    }
  },
  "cells": [
    {
      "cell_type": "code",
      "metadata": {
        "id": "YNghdk9kbJ4S",
        "outputId": "23e7a929-36d3-49e9-94e0-5bd72b532e3a"
      },
      "source": [
        "pip install opencv-python"
      ],
      "execution_count": null,
      "outputs": [
        {
          "output_type": "stream",
          "text": [
            "Collecting opencv-python\n",
            "  Downloading opencv_python-4.5.2.52-cp38-cp38-win_amd64.whl (34.7 MB)\n",
            "Requirement already satisfied: numpy>=1.17.3 in c:\\users\\hp\\anaconda3\\lib\\site-packages (from opencv-python) (1.19.2)\n",
            "Installing collected packages: opencv-python\n",
            "Successfully installed opencv-python-4.5.2.52\n",
            "Note: you may need to restart the kernel to use updated packages.\n"
          ],
          "name": "stdout"
        }
      ]
    },
    {
      "cell_type": "code",
      "metadata": {
        "id": "GI7NswzEbJ4d"
      },
      "source": [
        "\n",
        "import numpy as np\n",
        "import cv2\n",
        "from PIL import Image\n",
        "from matplotlib import pyplot as plt\n",
        "%matplotlib inline\n",
        "import os\n",
        "from os import listdir\n",
        "from os.path import isfile, join\n",
        "import pandas as pd"
      ],
      "execution_count": null,
      "outputs": []
    },
    {
      "cell_type": "code",
      "metadata": {
        "id": "A2cvu2VYbJ4f"
      },
      "source": [
        "def load_images_from_folder(folder):\n",
        "    train_data=[]\n",
        "    for filename in os.listdir(folder):\n",
        "        \n",
        "        img = cv2.imread(os.path.join(folder,filename),cv2.IMREAD_GRAYSCALE)\n",
        "        img=~img\n",
        "        if img is not None:\n",
        "            ret,thresh=cv2.threshold(img,127,255,cv2.THRESH_BINARY)\n",
        "            ctrs,ret=cv2.findContours(thresh,cv2.RETR_EXTERNAL,cv2.CHAIN_APPROX_NONE)\n",
        "            cnt=sorted(ctrs, key=lambda ctr: cv2.boundingRect(ctr)[0])\n",
        "            w=int(28)\n",
        "            h=int(28)\n",
        "            maxi=0\n",
        "            for c in cnt:\n",
        "                x,y,w,h=cv2.boundingRect(c)\n",
        "                maxi=max(w*h,maxi)\n",
        "                if maxi==w*h:\n",
        "                    x_max=x\n",
        "                    y_max=y\n",
        "                    w_max=w\n",
        "                    h_max=h\n",
        "            im_crop= thresh[y_max:y_max+h_max+10, x_max:x_max+w_max+10]\n",
        "            im_resize = cv2.resize(im_crop,(28,28))\n",
        "            im_resize=np.reshape(im_resize,(784,1))\n",
        "            train_data.append(im_resize)\n",
        "    return train_data"
      ],
      "execution_count": null,
      "outputs": []
    },
    {
      "cell_type": "code",
      "metadata": {
        "id": "IETf2uF1bJ4h"
      },
      "source": [
        "data=[]\n",
        "data_test=[]"
      ],
      "execution_count": null,
      "outputs": []
    },
    {
      "cell_type": "code",
      "metadata": {
        "id": "O85-FNoBbJ4i",
        "outputId": "f4780da0-5409-4f84-fcb3-bbe9d19c5bb9"
      },
      "source": [
        "#assign '-'=10\n",
        "data=load_images_from_folder('-')\n",
        "len(data)\n",
        "for i in range(0,len(data)):\n",
        "    data[i]=np.append(data[i],['10'])\n",
        "    \n",
        "data_test=data[-2000:]\n",
        "data=data[:2000]\n",
        "print(len(data),len(data_test))"
      ],
      "execution_count": null,
      "outputs": [
        {
          "output_type": "stream",
          "text": [
            "2000 2000\n"
          ],
          "name": "stdout"
        }
      ]
    },
    {
      "cell_type": "code",
      "metadata": {
        "id": "vbxlrqHJbJ4k",
        "outputId": "0703c125-539a-490f-bf5f-c41d60459cc3"
      },
      "source": [
        "\n",
        "#assign + = 11\n",
        "data11=load_images_from_folder('+')\n",
        "\n",
        "for i in range(0,len(data11)):\n",
        "    data11[i]=np.append(data11[i],['11'])\n",
        "\n",
        "data_test11=data11[-2000:]\n",
        "data11=data11[:2000]\n",
        "\n",
        "data=np.concatenate((data,data11))\n",
        "\n",
        "data_test=np.concatenate((data_test,data11))\n",
        "print(len(data))"
      ],
      "execution_count": null,
      "outputs": [
        {
          "output_type": "stream",
          "text": [
            "4000\n"
          ],
          "name": "stdout"
        }
      ]
    },
    {
      "cell_type": "code",
      "metadata": {
        "id": "jC5CW8ZZbJ4l",
        "outputId": "6ee61ac1-0221-4f88-ec19-44044c8c2fe4"
      },
      "source": [
        "\n",
        "data0=load_images_from_folder('0')\n",
        "for i in range(0,len(data0)):\n",
        "    data0[i]=np.append(data0[i],['0'])\n",
        "    \n",
        "data_test0=data0[-2000:]\n",
        "data0=data0[:2000]\n",
        "data=np.concatenate((data,data0))\n",
        "data_test=np.concatenate((data_test,data_test0))\n",
        "print(len(data) , len(data_test))"
      ],
      "execution_count": null,
      "outputs": [
        {
          "output_type": "stream",
          "text": [
            "6000 6000\n"
          ],
          "name": "stdout"
        }
      ]
    },
    {
      "cell_type": "code",
      "metadata": {
        "id": "bUX4pxglbJ4n",
        "outputId": "a452e1ce-d5ab-4ab4-f8d9-fc0f5f508c97"
      },
      "source": [
        "\n",
        "data1=load_images_from_folder('1')\n",
        "\n",
        "for i in range(0,len(data1)):\n",
        "    data1[i]=np.append(data1[i],['1'])\n",
        "\n",
        "data_test1=data1[-2000:]\n",
        "data1=data1[:2000]\n",
        "data=np.concatenate((data,data1))\n",
        "data_test=np.concatenate((data_test,data_test1))\n",
        "print(len(data) , len(data_test))"
      ],
      "execution_count": null,
      "outputs": [
        {
          "output_type": "stream",
          "text": [
            "8000 8000\n"
          ],
          "name": "stdout"
        }
      ]
    },
    {
      "cell_type": "code",
      "metadata": {
        "id": "-JWYkwI1bJ4o",
        "outputId": "83243ddb-4d06-4a23-db4b-3a7bf7e042a6"
      },
      "source": [
        "data2=load_images_from_folder('2')\n",
        "\n",
        "for i in range(0,len(data2)):\n",
        "    data2[i]=np.append(data2[i],['2'])\n",
        "\n",
        "data_test2=data2[-2000:]\n",
        "data2=data2[:2000]\n",
        "data=np.concatenate((data,data2))\n",
        "data_test=np.concatenate((data_test,data_test2))\n",
        "print(len(data) , len(data_test))"
      ],
      "execution_count": null,
      "outputs": [
        {
          "output_type": "stream",
          "text": [
            "10000 10000\n"
          ],
          "name": "stdout"
        }
      ]
    },
    {
      "cell_type": "code",
      "metadata": {
        "id": "Mr16tYVQbJ40",
        "outputId": "ab1edcde-e70a-4c8c-95ad-8ed6221a5958"
      },
      "source": [
        "\n",
        "data3=load_images_from_folder('3')\n",
        "\n",
        "for i in range(0,len(data3)):\n",
        "    data3[i]=np.append(data3[i],['3'])\n",
        "\n",
        "data_test3=data3[-2000:]\n",
        "data3=data3[:2000]\n",
        "data=np.concatenate((data,data3))\n",
        "data_test=np.concatenate((data_test,data_test3))\n",
        "print(len(data) , len(data_test))"
      ],
      "execution_count": null,
      "outputs": [
        {
          "output_type": "stream",
          "text": [
            "12000 12000\n"
          ],
          "name": "stdout"
        }
      ]
    },
    {
      "cell_type": "code",
      "metadata": {
        "id": "i0BPZwGjbJ43",
        "outputId": "56418e79-93a2-4af9-de1f-376bee92700f"
      },
      "source": [
        "\n",
        "data4=load_images_from_folder('4')\n",
        "\n",
        "for i in range(0,len(data4)):\n",
        "    data4[i]=np.append(data4[i],['4'])\n",
        "\n",
        "data_test4=data4[-2000:]\n",
        "data4=data4[:2000]\n",
        "data=np.concatenate((data,data4))\n",
        "data_test=np.concatenate((data_test,data_test4))\n",
        "print(len(data) , len(data_test))"
      ],
      "execution_count": null,
      "outputs": [
        {
          "output_type": "stream",
          "text": [
            "14000 14000\n"
          ],
          "name": "stdout"
        }
      ]
    },
    {
      "cell_type": "code",
      "metadata": {
        "id": "64wHn9T8bJ45",
        "outputId": "0299a654-2fe8-4bbb-d4f0-ddccefd3ab24"
      },
      "source": [
        "data5=load_images_from_folder('5')\n",
        "\n",
        "for i in range(0,len(data5)):\n",
        "    data5[i]=np.append(data5[i],['5'])\n",
        "\n",
        "data_test5=data5[-2000:]\n",
        "data5=data5[:2000]\n",
        "data=np.concatenate((data,data5))\n",
        "data_test=np.concatenate((data_test,data_test5))\n",
        "print(len(data) , len(data_test))"
      ],
      "execution_count": null,
      "outputs": [
        {
          "output_type": "stream",
          "text": [
            "16000 16000\n"
          ],
          "name": "stdout"
        }
      ]
    },
    {
      "cell_type": "code",
      "metadata": {
        "id": "h0FIMENkbJ46",
        "outputId": "9c83ef28-d25a-469e-ff6a-8564bf142f44"
      },
      "source": [
        "data6=load_images_from_folder('6')\n",
        "\n",
        "for i in range(0,len(data6)):\n",
        "    data6[i]=np.append(data6[i],['6'])\n",
        "\n",
        "data_test6=data6[-2000:]\n",
        "data6=data6[:2000]\n",
        "data=np.concatenate((data,data6))\n",
        "data_test=np.concatenate((data_test,data_test6))\n",
        "print(len(data) , len(data_test))"
      ],
      "execution_count": null,
      "outputs": [
        {
          "output_type": "stream",
          "text": [
            "18000 18000\n"
          ],
          "name": "stdout"
        }
      ]
    },
    {
      "cell_type": "code",
      "metadata": {
        "id": "qkDfOV8dbJ48",
        "outputId": "6bbf836e-914a-47bc-df74-7d1142ff20c4"
      },
      "source": [
        "data7=load_images_from_folder('7')\n",
        "\n",
        "for i in range(0,len(data7)):\n",
        "    data7[i]=np.append(data7[i],['7'])\n",
        "\n",
        "data_test7=data7[-2000:]\n",
        "data7=data7[:2000]\n",
        "data=np.concatenate((data,data7))\n",
        "data_test=np.concatenate((data_test,data_test7))\n",
        "print(len(data) , len(data_test))"
      ],
      "execution_count": null,
      "outputs": [
        {
          "output_type": "stream",
          "text": [
            "20000 20000\n"
          ],
          "name": "stdout"
        }
      ]
    },
    {
      "cell_type": "code",
      "metadata": {
        "id": "7cevoYwwbJ5C",
        "outputId": "3a342c69-20cb-4242-f70d-e351e3990892"
      },
      "source": [
        "data8=load_images_from_folder('8')\n",
        "\n",
        "for i in range(0,len(data8)):\n",
        "    data8[i]=np.append(data8[i],['8'])\n",
        "\n",
        "data_test8=data8[-2000:]\n",
        "data8=data8[:2000]\n",
        "data=np.concatenate((data,data8))\n",
        "data_test=np.concatenate((data_test,data_test8))\n",
        "print(len(data) , len(data_test)) "
      ],
      "execution_count": null,
      "outputs": [
        {
          "output_type": "stream",
          "text": [
            "22000 22000\n"
          ],
          "name": "stdout"
        }
      ]
    },
    {
      "cell_type": "code",
      "metadata": {
        "id": "62Vkm4vcbJ5D",
        "outputId": "28f7e9f6-c5d2-4afc-dff3-6e053208b7fa"
      },
      "source": [
        "data9=load_images_from_folder('9')\n",
        "\n",
        "for i in range(0,len(data9)):\n",
        "    data9[i]=np.append(data9[i],['9'])\n",
        "\n",
        "data_test9=data9[-2000:]\n",
        "data9=data9[:2000]\n",
        "data=np.concatenate((data,data9))\n",
        "data_test=np.concatenate((data_test,data_test9))\n",
        "print(len(data) , len(data_test))"
      ],
      "execution_count": null,
      "outputs": [
        {
          "output_type": "stream",
          "text": [
            "24000 24000\n"
          ],
          "name": "stdout"
        }
      ]
    },
    {
      "cell_type": "code",
      "metadata": {
        "id": "fDOpyvT2bJ5F",
        "outputId": "040da193-805d-4eb2-a231-ad5eceb62113"
      },
      "source": [
        "#assign * = 12\n",
        "data12=load_images_from_folder('times')\n",
        "\n",
        "for i in range(0,len(data12)):\n",
        "    data12[i]=np.append(data12[i],['12'])\n",
        "\n",
        "data_test12=data12[-2000:]\n",
        "data12=data12[:2000]\n",
        "data=np.concatenate((data,data12))\n",
        "data_test=np.concatenate((data_test,data_test12))\n",
        "print(len(data) , len(data_test))"
      ],
      "execution_count": null,
      "outputs": [
        {
          "output_type": "stream",
          "text": [
            "26000 26000\n"
          ],
          "name": "stdout"
        }
      ]
    },
    {
      "cell_type": "code",
      "metadata": {
        "id": "BA_n3yvgbJ5H",
        "outputId": "687f211d-e9ff-47ca-f121-240acfe99735"
      },
      "source": [
        "#assign ( = 13\n",
        "data13=load_images_from_folder('(')\n",
        "\n",
        "for i in range(0,len(data13)):\n",
        "    data13[i]=np.append(data13[i],['13'])\n",
        "\n",
        "data_test13=data13[-2000:]\n",
        "data13=data13[:2000]\n",
        "data=np.concatenate((data,data13))\n",
        "data_test=np.concatenate((data_test,data_test13))\n",
        "print(len(data) , len(data_test))\n",
        "    "
      ],
      "execution_count": null,
      "outputs": [
        {
          "output_type": "stream",
          "text": [
            "28000 28000\n"
          ],
          "name": "stdout"
        }
      ]
    },
    {
      "cell_type": "code",
      "metadata": {
        "id": "OA7Ffav3bJ5J",
        "outputId": "c9bff279-09a6-4452-b620-57e63aca4bb1"
      },
      "source": [
        "#assign ) = 14\n",
        "data14=load_images_from_folder(')')\n",
        "\n",
        "for i in range(0,len(data14)):\n",
        "    data14[i]=np.append(data14[i],['14'])\n",
        "\n",
        "data_test14=data14[-2000:]\n",
        "data14=data14[:2000]\n",
        "data=np.concatenate((data,data14))\n",
        "data_test=np.concatenate((data_test,data_test14))\n",
        "print(len(data) , len(data_test))"
      ],
      "execution_count": null,
      "outputs": [
        {
          "output_type": "stream",
          "text": [
            "30000 30000\n"
          ],
          "name": "stdout"
        }
      ]
    },
    {
      "cell_type": "code",
      "metadata": {
        "id": "VIv7i8bMbJ5L"
      },
      "source": [
        ""
      ],
      "execution_count": null,
      "outputs": []
    },
    {
      "cell_type": "code",
      "metadata": {
        "id": "aoNFd6H7bJ5M"
      },
      "source": [
        "df=pd.DataFrame(data,index=None)\n",
        "df.to_csv('train_final_2k.csv',index=False)"
      ],
      "execution_count": null,
      "outputs": []
    },
    {
      "cell_type": "code",
      "metadata": {
        "id": "AVobfcwXbJ5O"
      },
      "source": [
        "df=pd.DataFrame(data_test,index=None)\n",
        "df.to_csv('test_final_2k.csv',index=False)"
      ],
      "execution_count": null,
      "outputs": []
    },
    {
      "cell_type": "code",
      "metadata": {
        "id": "eNWzp9CzbJ5P"
      },
      "source": [
        ""
      ],
      "execution_count": null,
      "outputs": []
    }
  ]
}